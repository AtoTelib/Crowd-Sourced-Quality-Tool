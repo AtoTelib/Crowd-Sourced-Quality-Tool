{
  "nbformat": 4,
  "nbformat_minor": 0,
  "metadata": {
    "colab": {
      "name": "Naive_Bayes_Bachelor.ipynb",
      "provenance": []
    },
    "kernelspec": {
      "name": "python3",
      "display_name": "Python 3"
    }
  },
  "cells": [
    {
      "cell_type": "code",
      "metadata": {
        "id": "VrMhmcfgm5Cc",
        "colab_type": "code",
        "colab": {}
      },
      "source": [
        "import numpy as np\n",
        "import matplotlib.pyplot as plt\n",
        "import pandas as pd"
      ],
      "execution_count": 1,
      "outputs": []
    },
    {
      "cell_type": "code",
      "metadata": {
        "id": "9CjGy-7gnDP6",
        "colab_type": "code",
        "colab": {}
      },
      "source": [
        "dataset = pd.read_csv('updated2.csv')"
      ],
      "execution_count": 2,
      "outputs": []
    },
    {
      "cell_type": "code",
      "metadata": {
        "id": "iFE_t8FQoYU3",
        "colab_type": "code",
        "colab": {
          "base_uri": "https://localhost:8080/",
          "height": 51
        },
        "outputId": "56d3673b-6e17-44e7-d55f-765e13b6cf6b"
      },
      "source": [
        "import re\n",
        "import nltk\n",
        "nltk.download('stopwords')\n",
        "from nltk.corpus import stopwords\n",
        "from nltk.stem.porter import PorterStemmer\n",
        "corpus = []\n",
        "for i in range(0, 3420):\n",
        "  resume = re.sub('[^a-zA-Z]', ' ', dataset['combined'][i])\n",
        "  resume = resume.lower()\n",
        "  resume = resume.split()\n",
        "  ps = PorterStemmer()\n",
        "  all_stopwords = stopwords.words('english')\n",
        "  all_stopwords.remove('not')\n",
        "  resume = [ps.stem(word) for word in resume if not word in set(all_stopwords)]\n",
        "  resume = ' '.join(resume)\n",
        "  corpus.append(resume)"
      ],
      "execution_count": 3,
      "outputs": [
        {
          "output_type": "stream",
          "text": [
            "[nltk_data] Downloading package stopwords to /root/nltk_data...\n",
            "[nltk_data]   Unzipping corpora/stopwords.zip.\n"
          ],
          "name": "stdout"
        }
      ]
    },
    {
      "cell_type": "code",
      "metadata": {
        "id": "RzleL5j_pX4f",
        "colab_type": "code",
        "colab": {
          "base_uri": "https://localhost:8080/",
          "height": 187
        },
        "outputId": "2455eead-f388-4415-c1fc-80e6d07ee828"
      },
      "source": [
        "print(corpus)"
      ],
      "execution_count": 4,
      "outputs": [
        {
          "output_type": "stream",
          "text": [
            "IOPub data rate exceeded.\n",
            "The notebook server will temporarily stop sending output\n",
            "to the client in order to avoid crashing it.\n",
            "To change this limit, set the config variable\n",
            "`--NotebookApp.iopub_data_rate_limit`.\n",
            "\n",
            "Current values:\n",
            "NotebookApp.iopub_data_rate_limit=1000000.0 (bytes/sec)\n",
            "NotebookApp.rate_limit_window=3.0 (secs)\n",
            "\n"
          ],
          "name": "stderr"
        }
      ]
    },
    {
      "cell_type": "code",
      "metadata": {
        "id": "2yy05CpwplMl",
        "colab_type": "code",
        "colab": {}
      },
      "source": [
        "from sklearn.feature_extraction.text import CountVectorizer\n",
        "cv = CountVectorizer()\n",
        "X = cv.fit_transform(corpus).toarray()\n",
        "y = dataset.iloc[:, -1].values"
      ],
      "execution_count": 5,
      "outputs": []
    },
    {
      "cell_type": "code",
      "metadata": {
        "id": "qagHgekq5uGI",
        "colab_type": "code",
        "colab": {}
      },
      "source": [
        "from sklearn.preprocessing import LabelEncoder\n",
        "le = LabelEncoder()\n",
        "y = le.fit_transform(y)"
      ],
      "execution_count": 6,
      "outputs": []
    },
    {
      "cell_type": "code",
      "metadata": {
        "id": "UAQmSP3T5-xi",
        "colab_type": "code",
        "colab": {
          "base_uri": "https://localhost:8080/",
          "height": 34
        },
        "outputId": "9c9090eb-ea31-4660-e834-ca72458c5df7"
      },
      "source": [
        "y"
      ],
      "execution_count": 7,
      "outputs": [
        {
          "output_type": "execute_result",
          "data": {
            "text/plain": [
              "array([ 8,  8, 18, ..., 41, 19, 19])"
            ]
          },
          "metadata": {
            "tags": []
          },
          "execution_count": 7
        }
      ]
    },
    {
      "cell_type": "code",
      "metadata": {
        "id": "L70hHKjp6E4Q",
        "colab_type": "code",
        "colab": {}
      },
      "source": [
        "from sklearn.model_selection import train_test_split\n",
        "X_train, X_test, y_train, y_test = train_test_split(X, y, test_size = 0.20, random_state = 0)"
      ],
      "execution_count": 8,
      "outputs": []
    },
    {
      "cell_type": "code",
      "metadata": {
        "id": "itBd28fj6JSc",
        "colab_type": "code",
        "colab": {
          "base_uri": "https://localhost:8080/",
          "height": 34
        },
        "outputId": "7f5698ef-aef8-4f5d-e876-85ca86ce8d44"
      },
      "source": [
        "from sklearn.naive_bayes import GaussianNB\n",
        "classifier = GaussianNB()\n",
        "classifier.fit(X_train, y_train)"
      ],
      "execution_count": 9,
      "outputs": [
        {
          "output_type": "execute_result",
          "data": {
            "text/plain": [
              "GaussianNB(priors=None, var_smoothing=1e-09)"
            ]
          },
          "metadata": {
            "tags": []
          },
          "execution_count": 9
        }
      ]
    },
    {
      "cell_type": "code",
      "metadata": {
        "id": "-9RkNgjm8aaf",
        "colab_type": "code",
        "colab": {}
      },
      "source": [
        "#from sklearn.ensemble import RandomForestClassifier\n",
        "#classifier = RandomForestClassifier(n_estimators = 10, criterion = 'entropy', random_state = 0)\n",
        "#classifier.fit(X_train, y_train)"
      ],
      "execution_count": 10,
      "outputs": []
    },
    {
      "cell_type": "code",
      "metadata": {
        "id": "sSXxlnE186W3",
        "colab_type": "code",
        "colab": {}
      },
      "source": [
        "#from sklearn.svm import SVC\n",
        "#classifier = SVC(kernel = 'linear', random_state = 0)\n",
        "#classifier.fit(X_train, y_train)"
      ],
      "execution_count": 11,
      "outputs": []
    },
    {
      "cell_type": "code",
      "metadata": {
        "id": "sVUfkzfP7Ag8",
        "colab_type": "code",
        "colab": {
          "base_uri": "https://localhost:8080/",
          "height": 1000
        },
        "outputId": "c05d6970-6a83-4ccf-9247-6d2d46748291"
      },
      "source": [
        "le.inverse_transform(y_test)"
      ],
      "execution_count": 12,
      "outputs": [
        {
          "output_type": "execute_result",
          "data": {
            "text/plain": [
              "array(['NYC HOUSING AUTHORITY', 'DEPT OF ENVIRONMENT PROTECTION',\n",
              "       'DEPT OF ENVIRONMENT PROTECTION', 'DEPARTMENT OF TRANSPORTATION',\n",
              "       'DEPARTMENT OF TRANSPORTATION', 'DEPT OF HEALTH/MENTAL HYGIENE',\n",
              "       'DEPARTMENT OF TRANSPORTATION', 'DEPARTMENT OF SANITATION',\n",
              "       'NYC HOUSING AUTHORITY', 'DEPARTMENT OF BUSINESS SERV.',\n",
              "       'DEPT OF ENVIRONMENT PROTECTION', 'DEPT OF HEALTH/MENTAL HYGIENE',\n",
              "       \"ADMIN FOR CHILDREN'S SVCS\", 'DEPT OF ENVIRONMENT PROTECTION',\n",
              "       'LAW DEPARTMENT', \"ADMIN FOR CHILDREN'S SVCS\",\n",
              "       'DEPT OF HEALTH/MENTAL HYGIENE', 'DEPT OF HEALTH/MENTAL HYGIENE',\n",
              "       'DEPT OF ENVIRONMENT PROTECTION', 'TAXI & LIMOUSINE COMMISSION',\n",
              "       \"ADMIN FOR CHILDREN'S SVCS\", 'DEPT OF HEALTH/MENTAL HYGIENE',\n",
              "       'DEPT OF ENVIRONMENT PROTECTION', 'DEPT OF HEALTH/MENTAL HYGIENE',\n",
              "       'DEPT OF HEALTH/MENTAL HYGIENE', 'DEPT OF INFO TECH & TELECOMM',\n",
              "       'DEPT OF ENVIRONMENT PROTECTION', 'OFFICE OF EMERGENCY MANAGEMENT',\n",
              "       'HOUSING PRESERVATION & DVLPMNT', 'DEPARTMENT OF BUSINESS SERV.',\n",
              "       'DEPT OF HEALTH/MENTAL HYGIENE', 'LANDMARKS PRESERVATION COMM',\n",
              "       'DEPARTMENT OF SANITATION', 'DEPT OF ENVIRONMENT PROTECTION',\n",
              "       'DEPARTMENT FOR THE AGING', 'DEPT OF INFO TECH & TELECOMM',\n",
              "       'DEPT OF ENVIRONMENT PROTECTION', 'DEPT OF HEALTH/MENTAL HYGIENE',\n",
              "       'DEPT OF ENVIRONMENT PROTECTION', 'HOUSING PRESERVATION & DVLPMNT',\n",
              "       'DEPT OF HEALTH/MENTAL HYGIENE', 'DEPARTMENT OF BUSINESS SERV.',\n",
              "       'DEPT OF ENVIRONMENT PROTECTION', 'DEPT OF ENVIRONMENT PROTECTION',\n",
              "       'PRESIDENT BOROUGH OF MANHATTAN', 'DEPARTMENT OF BUILDINGS',\n",
              "       'DEPT OF ENVIRONMENT PROTECTION', 'DEPARTMENT OF BUSINESS SERV.',\n",
              "       'DEPT OF HEALTH/MENTAL HYGIENE', 'LAW DEPARTMENT',\n",
              "       'DEPARTMENT OF CORRECTION', 'DEPT OF CITYWIDE ADMIN SVCS',\n",
              "       'DEPT OF HEALTH/MENTAL HYGIENE', 'DEPARTMENT OF TRANSPORTATION',\n",
              "       'HRA/DEPT OF SOCIAL SERVICES', 'DEPARTMENT OF BUSINESS SERV.',\n",
              "       'HRA/DEPT OF SOCIAL SERVICES', 'DEPT OF ENVIRONMENT PROTECTION',\n",
              "       'TAXI & LIMOUSINE COMMISSION', 'NYC HOUSING AUTHORITY',\n",
              "       'DEPT OF ENVIRONMENT PROTECTION', 'MAYORS OFFICE OF CONTRACT SVCS',\n",
              "       'DEPT OF ENVIRONMENT PROTECTION', 'DEPT OF PARKS & RECREATION',\n",
              "       'DEPT OF HEALTH/MENTAL HYGIENE', 'DEPT OF ENVIRONMENT PROTECTION',\n",
              "       'DEPT OF HEALTH/MENTAL HYGIENE', 'DEPARTMENT OF BUSINESS SERV.',\n",
              "       'DEPT OF HEALTH/MENTAL HYGIENE', 'NYC EMPLOYEES RETIREMENT SYS',\n",
              "       'DEPARTMENT OF TRANSPORTATION', 'DEPT OF HEALTH/MENTAL HYGIENE',\n",
              "       'DEPARTMENT OF SANITATION', 'DEPT OF HEALTH/MENTAL HYGIENE',\n",
              "       'DEPARTMENT OF PROBATION', 'DEPT OF HEALTH/MENTAL HYGIENE',\n",
              "       'DEPARTMENT OF PROBATION', 'DEPT OF ENVIRONMENT PROTECTION',\n",
              "       'DEPT OF ENVIRONMENT PROTECTION', 'DEPT OF HEALTH/MENTAL HYGIENE',\n",
              "       'CONSUMER AFFAIRS', 'OFFICE OF MANAGEMENT & BUDGET',\n",
              "       'DEPT OF ENVIRONMENT PROTECTION', 'HRA/DEPT OF SOCIAL SERVICES',\n",
              "       'LAW DEPARTMENT', 'DEPT OF ENVIRONMENT PROTECTION',\n",
              "       'FIRE DEPARTMENT', 'DEPT OF ENVIRONMENT PROTECTION',\n",
              "       'HOUSING PRESERVATION & DVLPMNT', 'FINANCIAL INFO SVCS AGENCY',\n",
              "       'LAW DEPARTMENT', 'ADMIN TRIALS AND HEARINGS',\n",
              "       'NYC HOUSING AUTHORITY', 'DEPT OF ENVIRONMENT PROTECTION',\n",
              "       'LAW DEPARTMENT', 'DEPT OF HEALTH/MENTAL HYGIENE',\n",
              "       'ADMIN TRIALS AND HEARINGS', 'ADMIN TRIALS AND HEARINGS',\n",
              "       \"ADMIN FOR CHILDREN'S SVCS\", 'OFFICE OF EMERGENCY MANAGEMENT',\n",
              "       'DEPT OF HEALTH/MENTAL HYGIENE', 'DEPT OF ENVIRONMENT PROTECTION',\n",
              "       'DEPARTMENT OF TRANSPORTATION', 'LAW DEPARTMENT',\n",
              "       'DEPARTMENT OF TRANSPORTATION', 'DEPT OF ENVIRONMENT PROTECTION',\n",
              "       'DEPARTMENT OF CITY PLANNING', 'DEPT OF HEALTH/MENTAL HYGIENE',\n",
              "       'DEPT OF ENVIRONMENT PROTECTION', 'DEPT OF HEALTH/MENTAL HYGIENE',\n",
              "       'HRA/DEPT OF SOCIAL SERVICES', 'DEPT OF DESIGN & CONSTRUCTION',\n",
              "       'DEPARTMENT FOR THE AGING', 'DEPT OF HEALTH/MENTAL HYGIENE',\n",
              "       'DEPT OF ENVIRONMENT PROTECTION', 'DEPT OF HEALTH/MENTAL HYGIENE',\n",
              "       'DEPT OF CITYWIDE ADMIN SVCS', 'DEPT OF HEALTH/MENTAL HYGIENE',\n",
              "       'HUMAN RIGHTS COMMISSION', 'DEPT OF INFO TECH & TELECOMM',\n",
              "       'LAW DEPARTMENT', 'DEPARTMENT OF TRANSPORTATION',\n",
              "       'DEPT OF HEALTH/MENTAL HYGIENE', 'DEPARTMENT OF INVESTIGATION',\n",
              "       'PRESIDENT BOROUGH OF MANHATTAN', 'DEPT OF ENVIRONMENT PROTECTION',\n",
              "       'MAYORS OFFICE OF CONTRACT SVCS', 'DEPT OF HEALTH/MENTAL HYGIENE',\n",
              "       'FINANCIAL INFO SVCS AGENCY', 'DEPT OF ENVIRONMENT PROTECTION',\n",
              "       'DEPARTMENT OF TRANSPORTATION', 'DEPT OF INFO TECH & TELECOMM',\n",
              "       'DEPT OF ENVIRONMENT PROTECTION', 'DEPT OF ENVIRONMENT PROTECTION',\n",
              "       'DEPT OF HEALTH/MENTAL HYGIENE', 'DEPT OF DESIGN & CONSTRUCTION',\n",
              "       'DEPT OF ENVIRONMENT PROTECTION', 'OFFICE OF MANAGEMENT & BUDGET',\n",
              "       'ADMIN TRIALS AND HEARINGS', 'DEPT OF ENVIRONMENT PROTECTION',\n",
              "       'DEPARTMENT OF PROBATION', 'DEPT OF INFO TECH & TELECOMM',\n",
              "       'DEPT OF HEALTH/MENTAL HYGIENE', 'POLICE DEPARTMENT',\n",
              "       'DEPT OF PARKS & RECREATION', 'CIVILIAN COMPLAINT REVIEW BD',\n",
              "       'DEPT OF HEALTH/MENTAL HYGIENE', 'LAW DEPARTMENT',\n",
              "       'DEPT OF INFO TECH & TELECOMM', 'DEPT OF HEALTH/MENTAL HYGIENE',\n",
              "       'DEPT OF HEALTH/MENTAL HYGIENE', 'DEPT OF ENVIRONMENT PROTECTION',\n",
              "       'MAYORS OFFICE OF CONTRACT SVCS', 'DEPT OF PARKS & RECREATION',\n",
              "       'DEPT OF ENVIRONMENT PROTECTION', 'NYC HOUSING AUTHORITY',\n",
              "       'DEPARTMENT OF INVESTIGATION', 'DEPT OF ENVIRONMENT PROTECTION',\n",
              "       'HOUSING PRESERVATION & DVLPMNT', 'TAXI & LIMOUSINE COMMISSION',\n",
              "       'DEPT OF ENVIRONMENT PROTECTION', 'DEPT OF DESIGN & CONSTRUCTION',\n",
              "       'DEPT OF HEALTH/MENTAL HYGIENE', 'OFFICE OF MANAGEMENT & BUDGET',\n",
              "       'DEPARTMENT OF CITY PLANNING', 'DEPARTMENT OF INVESTIGATION',\n",
              "       'BOARD OF CORRECTION', 'DEPARTMENT OF TRANSPORTATION',\n",
              "       'DEPT OF HEALTH/MENTAL HYGIENE', 'DEPT OF ENVIRONMENT PROTECTION',\n",
              "       'FINANCIAL INFO SVCS AGENCY', 'DEPT OF DESIGN & CONSTRUCTION',\n",
              "       'DEPT OF HEALTH/MENTAL HYGIENE', 'DEPARTMENT OF BUSINESS SERV.',\n",
              "       'DEPT OF HEALTH/MENTAL HYGIENE', 'TAXI & LIMOUSINE COMMISSION',\n",
              "       'DEPT OF HEALTH/MENTAL HYGIENE', 'DEPT OF INFO TECH & TELECOMM',\n",
              "       'DEPT OF HEALTH/MENTAL HYGIENE', 'DEPT OF HEALTH/MENTAL HYGIENE',\n",
              "       'DEPT OF ENVIRONMENT PROTECTION', 'OFFICE OF THE COMPTROLLER',\n",
              "       'HRA/DEPT OF SOCIAL SERVICES', 'DEPT OF HEALTH/MENTAL HYGIENE',\n",
              "       'DEPT OF HEALTH/MENTAL HYGIENE', 'OFFICE OF MANAGEMENT & BUDGET',\n",
              "       'DEPT OF INFO TECH & TELECOMM', 'OFFICE OF MANAGEMENT & BUDGET',\n",
              "       \"ADMIN FOR CHILDREN'S SVCS\", 'DEPT OF HEALTH/MENTAL HYGIENE',\n",
              "       'DEPT OF HEALTH/MENTAL HYGIENE', 'DEPT OF HEALTH/MENTAL HYGIENE',\n",
              "       'DEPT OF ENVIRONMENT PROTECTION', 'HRA/DEPT OF SOCIAL SERVICES',\n",
              "       'DEPT OF HEALTH/MENTAL HYGIENE', 'DEPT OF HEALTH/MENTAL HYGIENE',\n",
              "       'LAW DEPARTMENT', 'NYC HOUSING AUTHORITY', 'OFFICE OF THE ACTUARY',\n",
              "       'DEPT OF HEALTH/MENTAL HYGIENE', 'TAXI & LIMOUSINE COMMISSION',\n",
              "       'HUMAN RIGHTS COMMISSION', 'DEPT OF INFO TECH & TELECOMM',\n",
              "       'DEPT OF ENVIRONMENT PROTECTION', 'DEPT OF ENVIRONMENT PROTECTION',\n",
              "       'DEPARTMENT OF INVESTIGATION', 'DEPT OF ENVIRONMENT PROTECTION',\n",
              "       'DEPT OF ENVIRONMENT PROTECTION', 'DEPARTMENT OF CORRECTION',\n",
              "       'DEPT OF HEALTH/MENTAL HYGIENE', 'NYC HOUSING AUTHORITY',\n",
              "       'DEPT OF DESIGN & CONSTRUCTION', 'FIRE DEPARTMENT',\n",
              "       'OFFICE OF THE COMPTROLLER', 'DEPT OF ENVIRONMENT PROTECTION',\n",
              "       'OFFICE OF MANAGEMENT & BUDGET', 'DEPT OF INFO TECH & TELECOMM',\n",
              "       'DEPT OF HEALTH/MENTAL HYGIENE', 'FIRE DEPARTMENT',\n",
              "       'DEPT OF HEALTH/MENTAL HYGIENE', 'NYC HOUSING AUTHORITY',\n",
              "       'OFFICE OF MANAGEMENT & BUDGET', 'DEPT OF ENVIRONMENT PROTECTION',\n",
              "       'DEPT OF HEALTH/MENTAL HYGIENE', 'DEPT OF HEALTH/MENTAL HYGIENE',\n",
              "       'DEPT OF ENVIRONMENT PROTECTION', 'DEPARTMENT OF BUILDINGS',\n",
              "       'DEPT OF HEALTH/MENTAL HYGIENE', 'DEPT OF ENVIRONMENT PROTECTION',\n",
              "       'DEPT OF INFO TECH & TELECOMM', 'CIVILIAN COMPLAINT REVIEW BD',\n",
              "       'DEPT OF ENVIRONMENT PROTECTION', 'DEPT OF INFO TECH & TELECOMM',\n",
              "       'DEPT OF HEALTH/MENTAL HYGIENE', 'CONSUMER AFFAIRS',\n",
              "       'OFFICE OF MANAGEMENT & BUDGET', 'DEPT OF INFO TECH & TELECOMM',\n",
              "       'DEPT OF HEALTH/MENTAL HYGIENE', 'LAW DEPARTMENT',\n",
              "       'DEPT OF YOUTH & COMM DEV SRVS', 'DEPARTMENT OF BUSINESS SERV.',\n",
              "       'OFFICE OF MANAGEMENT & BUDGET', 'DEPT OF ENVIRONMENT PROTECTION',\n",
              "       'DEPARTMENT OF CITY PLANNING', 'DEPARTMENT OF BUSINESS SERV.',\n",
              "       'DEPT OF HEALTH/MENTAL HYGIENE', 'DEPT OF ENVIRONMENT PROTECTION',\n",
              "       'DEPT OF ENVIRONMENT PROTECTION', 'POLICE DEPARTMENT',\n",
              "       'DEPT OF ENVIRONMENT PROTECTION', 'DEPT OF HEALTH/MENTAL HYGIENE',\n",
              "       'DEPT OF HEALTH/MENTAL HYGIENE', 'DEPT OF HEALTH/MENTAL HYGIENE',\n",
              "       'DEPT OF ENVIRONMENT PROTECTION', \"ADMIN FOR CHILDREN'S SVCS\",\n",
              "       'OFFICE OF THE COMPTROLLER', \"ADMIN FOR CHILDREN'S SVCS\",\n",
              "       'DEPT OF ENVIRONMENT PROTECTION', 'DEPT OF ENVIRONMENT PROTECTION',\n",
              "       'DEPT OF HEALTH/MENTAL HYGIENE', 'DEPT OF CITYWIDE ADMIN SVCS',\n",
              "       'MAYORS OFFICE OF CONTRACT SVCS', 'DEPT OF ENVIRONMENT PROTECTION',\n",
              "       'DEPARTMENT OF TRANSPORTATION', 'NYC EMPLOYEES RETIREMENT SYS',\n",
              "       'DEPT OF HEALTH/MENTAL HYGIENE', 'DEPT OF ENVIRONMENT PROTECTION',\n",
              "       'DEPT OF HEALTH/MENTAL HYGIENE', 'NYC HOUSING AUTHORITY',\n",
              "       'DEPT OF HEALTH/MENTAL HYGIENE', 'DEPARTMENT OF BUSINESS SERV.',\n",
              "       'DEPARTMENT OF INVESTIGATION', 'DEPT OF HEALTH/MENTAL HYGIENE',\n",
              "       'DEPARTMENT OF TRANSPORTATION', 'DEPT OF ENVIRONMENT PROTECTION',\n",
              "       'DEPT OF HEALTH/MENTAL HYGIENE', 'NYC EMPLOYEES RETIREMENT SYS',\n",
              "       'DEPT OF HEALTH/MENTAL HYGIENE', 'OFFICE OF MANAGEMENT & BUDGET',\n",
              "       'DEPT OF HEALTH/MENTAL HYGIENE', 'DEPT OF DESIGN & CONSTRUCTION',\n",
              "       'NYC HOUSING AUTHORITY', 'DEPARTMENT OF TRANSPORTATION',\n",
              "       'DEPT OF HEALTH/MENTAL HYGIENE', 'DEPT OF ENVIRONMENT PROTECTION',\n",
              "       'DEPT OF ENVIRONMENT PROTECTION', 'OFFICE OF MANAGEMENT & BUDGET',\n",
              "       'DEPT OF HEALTH/MENTAL HYGIENE', 'DEPARTMENT OF SANITATION',\n",
              "       'DEPT OF ENVIRONMENT PROTECTION', 'DEPARTMENT OF TRANSPORTATION',\n",
              "       'DEPT OF HEALTH/MENTAL HYGIENE', 'DEPT OF INFO TECH & TELECOMM',\n",
              "       \"ADMIN FOR CHILDREN'S SVCS\", 'DEPT OF ENVIRONMENT PROTECTION',\n",
              "       'HOUSING PRESERVATION & DVLPMNT', 'DEPT OF HEALTH/MENTAL HYGIENE',\n",
              "       \"ADMIN FOR CHILDREN'S SVCS\", 'DEPARTMENT OF INVESTIGATION',\n",
              "       \"ADMIN FOR CHILDREN'S SVCS\", 'DEPARTMENT OF TRANSPORTATION',\n",
              "       'OFFICE OF MANAGEMENT & BUDGET', 'DEPT OF ENVIRONMENT PROTECTION',\n",
              "       'DEPARTMENT FOR THE AGING', 'DEPT OF HEALTH/MENTAL HYGIENE',\n",
              "       'OFFICE OF MANAGEMENT & BUDGET', 'HRA/DEPT OF SOCIAL SERVICES',\n",
              "       'DEPT OF INFO TECH & TELECOMM', \"ADMIN FOR CHILDREN'S SVCS\",\n",
              "       'OFFICE OF THE COMPTROLLER', 'DEPARTMENT OF TRANSPORTATION',\n",
              "       'HOUSING PRESERVATION & DVLPMNT', 'NYC EMPLOYEES RETIREMENT SYS',\n",
              "       'DEPT OF ENVIRONMENT PROTECTION', 'DEPARTMENT OF BUSINESS SERV.',\n",
              "       'DEPT OF HEALTH/MENTAL HYGIENE', \"ADMIN FOR CHILDREN'S SVCS\",\n",
              "       'DEPARTMENT OF BUILDINGS', 'LAW DEPARTMENT',\n",
              "       'DEPT OF HEALTH/MENTAL HYGIENE', 'FINANCIAL INFO SVCS AGENCY',\n",
              "       'POLICE DEPARTMENT', 'DEPT OF HEALTH/MENTAL HYGIENE',\n",
              "       'DEPT OF ENVIRONMENT PROTECTION', 'DEPT OF HEALTH/MENTAL HYGIENE',\n",
              "       \"ADMIN FOR CHILDREN'S SVCS\", 'DEPARTMENT OF TRANSPORTATION',\n",
              "       'DEPT OF HEALTH/MENTAL HYGIENE', 'DEPT OF HEALTH/MENTAL HYGIENE',\n",
              "       \"ADMIN FOR CHILDREN'S SVCS\", 'DEPT OF HEALTH/MENTAL HYGIENE',\n",
              "       'DEPT OF ENVIRONMENT PROTECTION', 'DEPT OF HEALTH/MENTAL HYGIENE',\n",
              "       'HRA/DEPT OF SOCIAL SERVICES', 'DEPT OF HEALTH/MENTAL HYGIENE',\n",
              "       'HRA/DEPT OF SOCIAL SERVICES', \"ADMIN FOR CHILDREN'S SVCS\",\n",
              "       'ADMIN TRIALS AND HEARINGS', 'DEPT OF HEALTH/MENTAL HYGIENE',\n",
              "       \"ADMIN FOR CHILDREN'S SVCS\", 'DEPT OF ENVIRONMENT PROTECTION',\n",
              "       'DEPT OF HEALTH/MENTAL HYGIENE', 'DEPT OF INFO TECH & TELECOMM',\n",
              "       'DEPT OF HEALTH/MENTAL HYGIENE', 'DEPARTMENT FOR THE AGING',\n",
              "       'DEPT OF DESIGN & CONSTRUCTION', 'DEPT OF ENVIRONMENT PROTECTION',\n",
              "       'DEPT OF HEALTH/MENTAL HYGIENE', 'DEPARTMENT OF TRANSPORTATION',\n",
              "       'DEPT OF HEALTH/MENTAL HYGIENE', 'DEPT OF ENVIRONMENT PROTECTION',\n",
              "       'LAW DEPARTMENT', 'HRA/DEPT OF SOCIAL SERVICES',\n",
              "       'DEPT OF INFO TECH & TELECOMM', 'DEPARTMENT OF TRANSPORTATION',\n",
              "       'FINANCIAL INFO SVCS AGENCY', 'DEPT OF HEALTH/MENTAL HYGIENE',\n",
              "       'DEPT OF HEALTH/MENTAL HYGIENE', 'POLICE DEPARTMENT',\n",
              "       'HRA/DEPT OF SOCIAL SERVICES', 'OFFICE OF MANAGEMENT & BUDGET',\n",
              "       'DEPT OF HEALTH/MENTAL HYGIENE', 'LAW DEPARTMENT',\n",
              "       'DEPT OF INFO TECH & TELECOMM', 'DEPT OF HEALTH/MENTAL HYGIENE',\n",
              "       'DEPT OF ENVIRONMENT PROTECTION', 'DEPT OF DESIGN & CONSTRUCTION',\n",
              "       'LAW DEPARTMENT', 'DEPT OF HEALTH/MENTAL HYGIENE',\n",
              "       'DEPT OF CITYWIDE ADMIN SVCS', 'DEPT OF HEALTH/MENTAL HYGIENE',\n",
              "       'DEPARTMENT OF TRANSPORTATION', 'OFF OF PAYROLL ADMINISTRATION',\n",
              "       'DEPT OF ENVIRONMENT PROTECTION', 'DEPT OF ENVIRONMENT PROTECTION',\n",
              "       'DEPARTMENT OF CORRECTION', 'DEPT OF HEALTH/MENTAL HYGIENE',\n",
              "       'DEPT OF HEALTH/MENTAL HYGIENE', 'DEPT OF ENVIRONMENT PROTECTION',\n",
              "       \"ADMIN FOR CHILDREN'S SVCS\", 'DEPARTMENT OF BUSINESS SERV.',\n",
              "       'DEPT OF ENVIRONMENT PROTECTION', 'DEPT OF HEALTH/MENTAL HYGIENE',\n",
              "       'TAXI & LIMOUSINE COMMISSION', 'DEPARTMENT OF BUSINESS SERV.',\n",
              "       'HOUSING PRESERVATION & DVLPMNT', 'DEPT OF HEALTH/MENTAL HYGIENE',\n",
              "       'DEPT OF ENVIRONMENT PROTECTION', 'OFFICE OF MANAGEMENT & BUDGET',\n",
              "       'DEPT OF HEALTH/MENTAL HYGIENE', 'DEPARTMENT OF BUSINESS SERV.',\n",
              "       'DEPT OF HEALTH/MENTAL HYGIENE', \"ADMIN FOR CHILDREN'S SVCS\",\n",
              "       'DEPT OF DESIGN & CONSTRUCTION', 'DEPT OF HEALTH/MENTAL HYGIENE',\n",
              "       'DEPARTMENT OF BUSINESS SERV.', 'DEPT OF ENVIRONMENT PROTECTION',\n",
              "       'LAW DEPARTMENT', 'DEPT OF ENVIRONMENT PROTECTION',\n",
              "       'NYC EMPLOYEES RETIREMENT SYS', 'DEPT OF ENVIRONMENT PROTECTION',\n",
              "       'DEPT OF ENVIRONMENT PROTECTION', 'LAW DEPARTMENT',\n",
              "       'DEPT OF ENVIRONMENT PROTECTION', 'DEPT OF ENVIRONMENT PROTECTION',\n",
              "       'DEPARTMENT OF INVESTIGATION', 'DEPT OF HEALTH/MENTAL HYGIENE',\n",
              "       'NYC HOUSING AUTHORITY', 'DEPT OF YOUTH & COMM DEV SRVS',\n",
              "       'DEPT OF ENVIRONMENT PROTECTION', 'DEPT OF ENVIRONMENT PROTECTION',\n",
              "       'DEPT OF DESIGN & CONSTRUCTION', 'DEPT OF HEALTH/MENTAL HYGIENE',\n",
              "       'DEPT OF INFO TECH & TELECOMM', 'LAW DEPARTMENT',\n",
              "       'DEPT OF ENVIRONMENT PROTECTION', 'DEPARTMENT OF CORRECTION',\n",
              "       'LAW DEPARTMENT', 'DEPT OF HEALTH/MENTAL HYGIENE',\n",
              "       'LAW DEPARTMENT', 'DEPT OF ENVIRONMENT PROTECTION',\n",
              "       'DEPT OF ENVIRONMENT PROTECTION', 'ADMIN TRIALS AND HEARINGS',\n",
              "       'ADMIN TRIALS AND HEARINGS', 'ADMIN TRIALS AND HEARINGS',\n",
              "       \"ADMIN FOR CHILDREN'S SVCS\", 'NYC HOUSING AUTHORITY',\n",
              "       'OFFICE OF MANAGEMENT & BUDGET', 'DEPT OF ENVIRONMENT PROTECTION',\n",
              "       'FINANCIAL INFO SVCS AGENCY', 'LAW DEPARTMENT',\n",
              "       \"ADMIN FOR CHILDREN'S SVCS\", 'POLICE DEPARTMENT',\n",
              "       'DEPT OF HEALTH/MENTAL HYGIENE', 'DEPT OF HEALTH/MENTAL HYGIENE',\n",
              "       'NYC EMPLOYEES RETIREMENT SYS', 'DEPARTMENT OF INVESTIGATION',\n",
              "       'DEPT OF ENVIRONMENT PROTECTION', 'DEPT OF HEALTH/MENTAL HYGIENE',\n",
              "       'MAYORS OFFICE OF CONTRACT SVCS', 'MAYORS OFFICE OF CONTRACT SVCS',\n",
              "       'HOUSING PRESERVATION & DVLPMNT', \"ADMIN FOR CHILDREN'S SVCS\",\n",
              "       'DEPT OF HEALTH/MENTAL HYGIENE', 'HUMAN RIGHTS COMMISSION',\n",
              "       'DEPT OF ENVIRONMENT PROTECTION', 'DEPARTMENT OF INVESTIGATION',\n",
              "       'LAW DEPARTMENT', 'NYC EMPLOYEES RETIREMENT SYS',\n",
              "       'FIRE DEPARTMENT', 'DEPT OF HEALTH/MENTAL HYGIENE',\n",
              "       'DEPT OF ENVIRONMENT PROTECTION', 'DEPT OF INFO TECH & TELECOMM',\n",
              "       'DEPT OF HEALTH/MENTAL HYGIENE', 'DEPT OF ENVIRONMENT PROTECTION',\n",
              "       'PRESIDENT BOROUGH OF MANHATTAN', 'ADMIN TRIALS AND HEARINGS',\n",
              "       'LAW DEPARTMENT', 'DEPT OF ENVIRONMENT PROTECTION',\n",
              "       'DEPARTMENT OF BUSINESS SERV.', \"ADMIN FOR CHILDREN'S SVCS\",\n",
              "       \"ADMIN FOR CHILDREN'S SVCS\", 'DEPT OF PARKS & RECREATION',\n",
              "       'DEPARTMENT OF TRANSPORTATION', 'DEPT OF DESIGN & CONSTRUCTION',\n",
              "       'DEPT OF ENVIRONMENT PROTECTION', 'DEPT OF HEALTH/MENTAL HYGIENE',\n",
              "       'DEPT OF HEALTH/MENTAL HYGIENE', 'DEPT OF PARKS & RECREATION',\n",
              "       \"ADMIN FOR CHILDREN'S SVCS\", 'DEPT OF ENVIRONMENT PROTECTION',\n",
              "       'DEPARTMENT OF CORRECTION', 'LANDMARKS PRESERVATION COMM',\n",
              "       'DEPT OF ENVIRONMENT PROTECTION', 'DEPT OF HEALTH/MENTAL HYGIENE',\n",
              "       'DEPT OF ENVIRONMENT PROTECTION', 'HOUSING PRESERVATION & DVLPMNT',\n",
              "       'NYC EMPLOYEES RETIREMENT SYS', 'DEPT OF ENVIRONMENT PROTECTION',\n",
              "       'DEPT OF ENVIRONMENT PROTECTION', 'DEPARTMENT OF SANITATION',\n",
              "       'DEPT OF ENVIRONMENT PROTECTION', 'OFFICE OF MANAGEMENT & BUDGET',\n",
              "       'LAW DEPARTMENT', 'DEPARTMENT OF TRANSPORTATION',\n",
              "       'DEPT OF HEALTH/MENTAL HYGIENE', 'DEPARTMENT OF TRANSPORTATION',\n",
              "       'HOUSING PRESERVATION & DVLPMNT', 'DEPT OF DESIGN & CONSTRUCTION',\n",
              "       'DEPT OF ENVIRONMENT PROTECTION', 'NYC HOUSING AUTHORITY',\n",
              "       'DEPT OF ENVIRONMENT PROTECTION', 'DEPT OF DESIGN & CONSTRUCTION',\n",
              "       'FIRE DEPARTMENT', 'DEPT OF ENVIRONMENT PROTECTION',\n",
              "       'DEPT OF HEALTH/MENTAL HYGIENE', 'DEPT OF HEALTH/MENTAL HYGIENE',\n",
              "       'DEPARTMENT OF TRANSPORTATION', 'DEPT OF HEALTH/MENTAL HYGIENE',\n",
              "       'DEPT OF ENVIRONMENT PROTECTION', 'PRESIDENT BOROUGH OF MANHATTAN',\n",
              "       \"ADMIN FOR CHILDREN'S SVCS\", \"ADMIN FOR CHILDREN'S SVCS\",\n",
              "       'CIVILIAN COMPLAINT REVIEW BD', 'DEPT OF DESIGN & CONSTRUCTION',\n",
              "       'MANHATTAN COMMUNITY BOARD #8', 'NYC HOUSING AUTHORITY',\n",
              "       'DEPT OF DESIGN & CONSTRUCTION', 'DEPT OF HEALTH/MENTAL HYGIENE',\n",
              "       'DEPARTMENT OF TRANSPORTATION', 'OFFICE OF THE COMPTROLLER',\n",
              "       'DEPARTMENT OF TRANSPORTATION', 'DEPARTMENT OF PROBATION',\n",
              "       'DEPT OF ENVIRONMENT PROTECTION', 'DEPT OF HEALTH/MENTAL HYGIENE',\n",
              "       'DEPT OF ENVIRONMENT PROTECTION', 'DEPT OF PARKS & RECREATION',\n",
              "       'DEPT OF HEALTH/MENTAL HYGIENE', 'DEPT OF ENVIRONMENT PROTECTION',\n",
              "       'DEPT OF ENVIRONMENT PROTECTION', 'DEPT OF INFO TECH & TELECOMM',\n",
              "       'DEPT OF ENVIRONMENT PROTECTION', 'MAYORS OFFICE OF CONTRACT SVCS',\n",
              "       'CIVILIAN COMPLAINT REVIEW BD', 'DEPT OF ENVIRONMENT PROTECTION',\n",
              "       'OFFICE OF THE COMPTROLLER', 'DEPT OF HEALTH/MENTAL HYGIENE',\n",
              "       'DEPARTMENT OF TRANSPORTATION', 'DEPARTMENT OF BUSINESS SERV.',\n",
              "       'NYC HOUSING AUTHORITY', 'CIVILIAN COMPLAINT REVIEW BD',\n",
              "       'DEPARTMENT OF CORRECTION', 'DEPT OF HEALTH/MENTAL HYGIENE',\n",
              "       'DEPT OF HEALTH/MENTAL HYGIENE', 'DEPT OF PARKS & RECREATION',\n",
              "       'DEPARTMENT OF TRANSPORTATION', 'HOUSING PRESERVATION & DVLPMNT',\n",
              "       \"ADMIN FOR CHILDREN'S SVCS\", 'DEPT OF HEALTH/MENTAL HYGIENE',\n",
              "       'DEPT OF HEALTH/MENTAL HYGIENE', 'DEPT OF HEALTH/MENTAL HYGIENE',\n",
              "       'DEPT OF DESIGN & CONSTRUCTION', 'DEPARTMENT OF BUSINESS SERV.',\n",
              "       'TAXI & LIMOUSINE COMMISSION', 'DEPT OF INFO TECH & TELECOMM',\n",
              "       'NYC EMPLOYEES RETIREMENT SYS', 'DEPT OF CITYWIDE ADMIN SVCS',\n",
              "       'DEPT OF ENVIRONMENT PROTECTION', 'DEPT OF HEALTH/MENTAL HYGIENE',\n",
              "       'DEPT OF HEALTH/MENTAL HYGIENE', 'OFFICE OF EMERGENCY MANAGEMENT',\n",
              "       'DEPARTMENT OF CORRECTION', 'HRA/DEPT OF SOCIAL SERVICES',\n",
              "       'DEPT OF ENVIRONMENT PROTECTION', 'DEPT OF HEALTH/MENTAL HYGIENE',\n",
              "       'DEPT OF ENVIRONMENT PROTECTION', 'DEPT OF INFO TECH & TELECOMM',\n",
              "       'DEPARTMENT OF CORRECTION', 'LAW DEPARTMENT',\n",
              "       'DEPT OF HEALTH/MENTAL HYGIENE', 'DEPT OF HEALTH/MENTAL HYGIENE',\n",
              "       'POLICE DEPARTMENT', 'DEPT OF PARKS & RECREATION',\n",
              "       'DEPT OF HEALTH/MENTAL HYGIENE', 'HOUSING PRESERVATION & DVLPMNT',\n",
              "       'DEPT OF ENVIRONMENT PROTECTION', 'DEPARTMENT OF TRANSPORTATION',\n",
              "       'CIVILIAN COMPLAINT REVIEW BD', 'DEPT OF CITYWIDE ADMIN SVCS',\n",
              "       'DEPT OF HEALTH/MENTAL HYGIENE', 'LAW DEPARTMENT',\n",
              "       'NYC HOUSING AUTHORITY', 'DEPT OF ENVIRONMENT PROTECTION',\n",
              "       'DEPT OF HEALTH/MENTAL HYGIENE', 'DEPT OF PARKS & RECREATION',\n",
              "       'LAW DEPARTMENT', 'DEPT OF HEALTH/MENTAL HYGIENE',\n",
              "       'HOUSING PRESERVATION & DVLPMNT', 'HOUSING PRESERVATION & DVLPMNT',\n",
              "       'TAXI & LIMOUSINE COMMISSION', 'HOUSING PRESERVATION & DVLPMNT',\n",
              "       'NYC EMPLOYEES RETIREMENT SYS', 'DEPT OF HEALTH/MENTAL HYGIENE',\n",
              "       'POLICE DEPARTMENT', 'DEPT OF HEALTH/MENTAL HYGIENE',\n",
              "       'OFFICE OF MANAGEMENT & BUDGET', 'DEPT OF ENVIRONMENT PROTECTION',\n",
              "       'DEPT OF INFO TECH & TELECOMM', 'OFFICE OF EMERGENCY MANAGEMENT',\n",
              "       'NYC EMPLOYEES RETIREMENT SYS', 'HOUSING PRESERVATION & DVLPMNT',\n",
              "       'DEPT OF HEALTH/MENTAL HYGIENE', 'DEPT OF HEALTH/MENTAL HYGIENE',\n",
              "       'DEPT OF INFO TECH & TELECOMM', 'OFFICE OF MANAGEMENT & BUDGET',\n",
              "       'DEPT OF ENVIRONMENT PROTECTION', 'DEPT OF HEALTH/MENTAL HYGIENE',\n",
              "       'DEPT OF ENVIRONMENT PROTECTION', 'DEPT OF HEALTH/MENTAL HYGIENE',\n",
              "       'DEPT OF ENVIRONMENT PROTECTION', 'NYC EMPLOYEES RETIREMENT SYS',\n",
              "       'CONSUMER AFFAIRS', 'PRESIDENT BOROUGH OF MANHATTAN',\n",
              "       'DEPT OF ENVIRONMENT PROTECTION', 'DEPT OF HEALTH/MENTAL HYGIENE',\n",
              "       'DEPT OF HEALTH/MENTAL HYGIENE', 'DEPT OF HEALTH/MENTAL HYGIENE',\n",
              "       'DEPT OF HEALTH/MENTAL HYGIENE', \"ADMIN FOR CHILDREN'S SVCS\",\n",
              "       'DEPARTMENT OF BUILDINGS', 'DEPT OF ENVIRONMENT PROTECTION',\n",
              "       'TAXI & LIMOUSINE COMMISSION', 'LAW DEPARTMENT',\n",
              "       'HOUSING PRESERVATION & DVLPMNT', 'DEPT OF ENVIRONMENT PROTECTION',\n",
              "       'DEPT OF DESIGN & CONSTRUCTION', 'CIVILIAN COMPLAINT REVIEW BD',\n",
              "       'DEPARTMENT OF TRANSPORTATION', 'DEPT OF ENVIRONMENT PROTECTION',\n",
              "       'DEPARTMENT OF TRANSPORTATION', 'DEPT OF HEALTH/MENTAL HYGIENE',\n",
              "       'DEPT OF ENVIRONMENT PROTECTION', 'DEPARTMENT OF INVESTIGATION',\n",
              "       'DEPARTMENT OF TRANSPORTATION', 'OFFICE OF THE COMPTROLLER',\n",
              "       'DEPARTMENT OF TRANSPORTATION', 'DEPT OF HEALTH/MENTAL HYGIENE',\n",
              "       'DEPT OF HEALTH/MENTAL HYGIENE', 'DEPT OF HEALTH/MENTAL HYGIENE',\n",
              "       'DEPT OF CITYWIDE ADMIN SVCS', 'DEPT OF ENVIRONMENT PROTECTION',\n",
              "       'DISTRICT ATTORNEY RICHMOND COU', 'DEPT OF YOUTH & COMM DEV SRVS',\n",
              "       'DEPARTMENT OF SANITATION', 'TAXI & LIMOUSINE COMMISSION',\n",
              "       'DEPT OF HEALTH/MENTAL HYGIENE', 'DEPT OF DESIGN & CONSTRUCTION',\n",
              "       'DEPARTMENT OF BUILDINGS', \"ADMIN FOR CHILDREN'S SVCS\",\n",
              "       'OFFICE OF EMERGENCY MANAGEMENT', 'LAW DEPARTMENT',\n",
              "       'DEPARTMENT OF CORRECTION', 'DEPT OF HEALTH/MENTAL HYGIENE',\n",
              "       'OFFICE OF MANAGEMENT & BUDGET', 'NYC EMPLOYEES RETIREMENT SYS',\n",
              "       'DEPT OF ENVIRONMENT PROTECTION', 'DEPARTMENT OF TRANSPORTATION',\n",
              "       'DEPT OF HEALTH/MENTAL HYGIENE', 'DEPT OF PARKS & RECREATION',\n",
              "       'DEPT OF ENVIRONMENT PROTECTION', 'DEPT OF HEALTH/MENTAL HYGIENE',\n",
              "       'DEPT OF HEALTH/MENTAL HYGIENE', 'DEPT OF INFO TECH & TELECOMM',\n",
              "       'HOUSING PRESERVATION & DVLPMNT', 'OFFICE OF MANAGEMENT & BUDGET',\n",
              "       'OFFICE OF THE COMPTROLLER', 'DEPT OF HEALTH/MENTAL HYGIENE',\n",
              "       'DEPT OF ENVIRONMENT PROTECTION', 'DEPARTMENT OF BUSINESS SERV.',\n",
              "       'DEPT OF HEALTH/MENTAL HYGIENE', 'DEPT OF HEALTH/MENTAL HYGIENE',\n",
              "       'POLICE DEPARTMENT', 'CIVILIAN COMPLAINT REVIEW BD',\n",
              "       'DEPT OF ENVIRONMENT PROTECTION', 'DEPT OF HEALTH/MENTAL HYGIENE',\n",
              "       'DEPT OF ENVIRONMENT PROTECTION', 'FIRE DEPARTMENT',\n",
              "       'DEPT OF DESIGN & CONSTRUCTION', 'DEPT OF PARKS & RECREATION',\n",
              "       'DEPT OF HEALTH/MENTAL HYGIENE', 'ADMIN TRIALS AND HEARINGS',\n",
              "       'ADMIN TRIALS AND HEARINGS', 'LAW DEPARTMENT',\n",
              "       'DEPT OF HEALTH/MENTAL HYGIENE', 'DEPT OF ENVIRONMENT PROTECTION',\n",
              "       'DEPT OF ENVIRONMENT PROTECTION', 'DEPT OF HEALTH/MENTAL HYGIENE',\n",
              "       'TAXI & LIMOUSINE COMMISSION', 'DEPT OF HEALTH/MENTAL HYGIENE',\n",
              "       'DEPARTMENT OF INVESTIGATION', 'DEPT OF INFO TECH & TELECOMM',\n",
              "       'HOUSING PRESERVATION & DVLPMNT', 'DEPT OF ENVIRONMENT PROTECTION',\n",
              "       'HUMAN RIGHTS COMMISSION'], dtype=object)"
            ]
          },
          "metadata": {
            "tags": []
          },
          "execution_count": 12
        }
      ]
    },
    {
      "cell_type": "code",
      "metadata": {
        "id": "RysFQRy46NUk",
        "colab_type": "code",
        "colab": {
          "base_uri": "https://localhost:8080/",
          "height": 136
        },
        "outputId": "c8ff89a2-27dc-45c5-d5a1-993a1e2e7455"
      },
      "source": [
        "y_pred = classifier.predict(X_test)\n",
        "print(np.concatenate((le.inverse_transform(y_pred).reshape(len(y_pred),1), le.inverse_transform(y_test).reshape(len(y_test),1)),1))"
      ],
      "execution_count": 13,
      "outputs": [
        {
          "output_type": "stream",
          "text": [
            "[['NYC HOUSING AUTHORITY' 'NYC HOUSING AUTHORITY']\n",
            " ['DEPT OF ENVIRONMENT PROTECTION' 'DEPT OF ENVIRONMENT PROTECTION']\n",
            " ['DEPT OF ENVIRONMENT PROTECTION' 'DEPT OF ENVIRONMENT PROTECTION']\n",
            " ...\n",
            " ['HOUSING PRESERVATION & DVLPMNT' 'HOUSING PRESERVATION & DVLPMNT']\n",
            " ['DEPT OF ENVIRONMENT PROTECTION' 'DEPT OF ENVIRONMENT PROTECTION']\n",
            " ['HUMAN RIGHTS COMMISSION' 'HUMAN RIGHTS COMMISSION']]\n"
          ],
          "name": "stdout"
        }
      ]
    },
    {
      "cell_type": "code",
      "metadata": {
        "id": "f9E0vY2R6Sxv",
        "colab_type": "code",
        "colab": {
          "base_uri": "https://localhost:8080/",
          "height": 153
        },
        "outputId": "7369ae4d-1776-498b-eb81-a05374bdc655"
      },
      "source": [
        "from sklearn.metrics import confusion_matrix, accuracy_score, precision_score, recall_score, f1_score, log_loss, roc_auc_score\n",
        "cm = confusion_matrix(le.inverse_transform(y_test), le.inverse_transform(y_pred))\n",
        "print(cm)\n",
        "accuracy_score(y_test, y_pred)"
      ],
      "execution_count": 14,
      "outputs": [
        {
          "output_type": "stream",
          "text": [
            "[[26  0  0 ...  0  0  0]\n",
            " [ 0  9  0 ...  0  0  0]\n",
            " [ 0  0  1 ...  0  0  0]\n",
            " ...\n",
            " [ 0  0  0 ...  5  0  0]\n",
            " [ 0  0  0 ...  0  5  0]\n",
            " [ 0  0  0 ...  0  0 11]]\n"
          ],
          "name": "stdout"
        },
        {
          "output_type": "execute_result",
          "data": {
            "text/plain": [
              "0.9166666666666666"
            ]
          },
          "metadata": {
            "tags": []
          },
          "execution_count": 14
        }
      ]
    },
    {
      "cell_type": "code",
      "metadata": {
        "id": "Q2pCQDO0cQ8k",
        "colab_type": "code",
        "colab": {
          "base_uri": "https://localhost:8080/",
          "height": 88
        },
        "outputId": "e280ac4d-f24a-4ee0-f3d1-9344dc9c0483"
      },
      "source": [
        "precision_score(y_test, y_pred, average='weighted')"
      ],
      "execution_count": 15,
      "outputs": [
        {
          "output_type": "stream",
          "text": [
            "/usr/local/lib/python3.6/dist-packages/sklearn/metrics/_classification.py:1272: UndefinedMetricWarning: Precision is ill-defined and being set to 0.0 in labels with no predicted samples. Use `zero_division` parameter to control this behavior.\n",
            "  _warn_prf(average, modifier, msg_start, len(result))\n"
          ],
          "name": "stderr"
        },
        {
          "output_type": "execute_result",
          "data": {
            "text/plain": [
              "0.9239436337838665"
            ]
          },
          "metadata": {
            "tags": []
          },
          "execution_count": 15
        }
      ]
    },
    {
      "cell_type": "code",
      "metadata": {
        "id": "7OJsRnGfcTCa",
        "colab_type": "code",
        "colab": {
          "base_uri": "https://localhost:8080/",
          "height": 34
        },
        "outputId": "537b5f43-404c-47e7-c34b-361a45108a72"
      },
      "source": [
        "recall_score(y_test, y_pred, average='weighted')"
      ],
      "execution_count": 16,
      "outputs": [
        {
          "output_type": "execute_result",
          "data": {
            "text/plain": [
              "0.9166666666666666"
            ]
          },
          "metadata": {
            "tags": []
          },
          "execution_count": 16
        }
      ]
    },
    {
      "cell_type": "code",
      "metadata": {
        "id": "Ro4dWRiOcU2p",
        "colab_type": "code",
        "colab": {
          "base_uri": "https://localhost:8080/",
          "height": 34
        },
        "outputId": "cd39df06-76a6-4563-b2ee-bffe6db408a1"
      },
      "source": [
        "f1_score(y_test, y_pred, average='weighted')"
      ],
      "execution_count": 17,
      "outputs": [
        {
          "output_type": "execute_result",
          "data": {
            "text/plain": [
              "0.9127584295689078"
            ]
          },
          "metadata": {
            "tags": []
          },
          "execution_count": 17
        }
      ]
    },
    {
      "cell_type": "code",
      "metadata": {
        "id": "p446WYikcW0e",
        "colab_type": "code",
        "colab": {}
      },
      "source": [
        "#pred = classifier.predict_proba(X_test)\n",
        "#log_loss(y_test,y_pred)"
      ],
      "execution_count": 18,
      "outputs": []
    },
    {
      "cell_type": "code",
      "metadata": {
        "id": "o2idH0vrcYic",
        "colab_type": "code",
        "colab": {}
      },
      "source": [
        "#roc_auc_score(y_test, y_pred, average = 'weighted', multi_class= 'ovr')"
      ],
      "execution_count": 19,
      "outputs": []
    }
  ]
}